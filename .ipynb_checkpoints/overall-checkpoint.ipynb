{
 "cells": [
  {
   "cell_type": "markdown",
   "metadata": {},
   "source": [
    "quiz may have calculation example from nn example. Know how to do one or two nodes\n",
    "\n",
    "if in a quiz bias is not defined, by default, bias = 1\n",
    "\n",
    "quiz on monday, everything up to 11/9\n",
    "\n"
   ]
  }
 ],
 "metadata": {
  "kernelspec": {
   "display_name": "Python 3",
   "language": "python",
   "name": "python3"
  },
  "language_info": {
   "codemirror_mode": {
    "name": "ipython",
    "version": 3
   },
   "file_extension": ".py",
   "mimetype": "text/x-python",
   "name": "python",
   "nbconvert_exporter": "python",
   "pygments_lexer": "ipython3",
   "version": "3.5.5"
  }
 },
 "nbformat": 4,
 "nbformat_minor": 2
}
