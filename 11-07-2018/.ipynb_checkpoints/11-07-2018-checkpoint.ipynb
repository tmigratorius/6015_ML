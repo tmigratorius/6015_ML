{
 "cells": [
  {
   "cell_type": "code",
   "execution_count": 5,
   "metadata": {},
   "outputs": [],
   "source": [
    "#Copied from https://jovianlin.io/datasets-within-keras/#reuters\n",
    "\n",
    "\n",
    "%matplotlib inline\n",
    "import matplotlib.pyplot as plt\n",
    "import keras\n",
    "from termcolor import colored\n",
    "\n",
    "def show_shapes(x_train, y_train, x_test, y_test, color='green'):\n",
    "    print(colored('Training shape:', color, attrs=['bold']))\n",
    "    print('  x_train.shape:', x_train.shape)\n",
    "    print('  y_train.shape:', y_train.shape)\n",
    "    print(colored('\\nTesting shape:', color, attrs=['bold']))\n",
    "    print('  x_test.shape:', x_test.shape)\n",
    "    print('  y_test.shape:', y_test.shape)\n",
    "\n",
    "def plot_data(my_data, cmap=None):\n",
    "    plt.axis('off')\n",
    "    fig = plt.imshow(my_data, cmap=cmap)\n",
    "    fig.axes.get_xaxis().set_visible(False)\n",
    "    fig.axes.get_yaxis().set_visible(False)\n",
    "    print(fig)\n",
    "\n",
    "def show_sample(x_train, y_train, idx=0, color='blue'):\n",
    "    print(colored('x_train sample:', color, attrs=['bold']))\n",
    "    print(x_train[idx])\n",
    "    print(colored('\\ny_train sample:', color, attrs=['bold']))\n",
    "    print(y_train[idx])\n",
    "    \n",
    "def show_sample_image(x_train, y_train, idx=0, color='blue', cmap=None):\n",
    "    print(colored('Label:', color, attrs=['bold']), y_train[idx])\n",
    "    print(colored('Shape:', color, attrs=['bold']), x_train[idx].shape)"
   ]
  },
  {
   "cell_type": "markdown",
   "metadata": {},
   "source": [
    "# [Reuters dataset](https://archive.ics.uci.edu/ml/datasets/reuters-21578+text+categorization+collection)\n",
    "\n",
    "## Multi-class problem\n",
    "\n",
    "The Reuters dataset, a set of short newswires and their topics, published by Reuters in 1986. It’s a simple, widely used toy dataset for text classification. There are 46 different topics; some topics are more represented than others, but each topic\n",
    "has at least 10 examples in the training set."
   ]
  },
  {
   "cell_type": "code",
   "execution_count": null,
   "metadata": {},
   "outputs": [],
   "source": [
    "#Load dataset\n",
    "from keras.datasets import reuters\n",
    "(train_data,train_labels),(test_data,test_labels)=reuters.load_data(num_words=10000)"
   ]
  },
  {
   "cell_type": "code",
   "execution_count": null,
   "metadata": {},
   "outputs": [],
   "source": [
    "# Encode the training data\n",
    "#*** make one hot encoding for 10k words\n",
    "import numpy as np\n",
    "def vactorize_sequences(sequences,dimension=10000):\n",
    "    results= np.zeros((len(sequences),dimension))\n",
    "    for i,sequence in enumerate(sequences):\n",
    "        results[i,sequence] = 1\n",
    "    return results\n",
    "x_train=vactorize_sequences(train_data)\n",
    "x_test=vactorize_sequences(test_data)"
   ]
  },
  {
   "cell_type": "code",
   "execution_count": null,
   "metadata": {},
   "outputs": [],
   "source": [
    "# Encode the labels\n",
    "#*** NO CATEGORY vars in a NN\n",
    "#** always make normalized and float\n",
    "from keras.utils.np_utils import to_categorical\n",
    "one_hot_train_labels= to_categorical(train_labels)\n",
    "one_hot_test_labels= to_categorical(test_labels)"
   ]
  },
  {
   "cell_type": "code",
   "execution_count": null,
   "metadata": {},
   "outputs": [],
   "source": [
    "\n",
    "\n",
    "from keras import activations\n",
    "from keras import optimizers\n",
    "from keras import models\n",
    "from keras import layers\n",
    "\n",
    "\n",
    "\n",
    "\"\"\"\n",
    "Rectified Linear Unit.\n",
    "\n",
    "With default values, it returns element-wise max(x, 0).\n",
    "\n",
    "Otherwise, it follows: f(x) = max_value for x >= max_value, f(x) = alpha * x otherwise.\n",
    "\n",
    "\"\"\"\n",
    "\n",
    "#*** relu_advanced is a user-defined function, \n",
    "def relu_advanced(x):\n",
    "    return activations.relu(x,alpha=0.0, max_value=250)\n",
    "\n",
    "#*** 3 layers, input 64, output 46 = numbers of labels, softmax because it is multiclass\n",
    "RMSopt=optimizers.RMSprop(lr=0.00001)\n",
    "\n",
    "model= models.Sequential()\n",
    "model.add(layers.Dense(64, activation=relu_advanced ,input_shape=(10000,)))\n",
    "model.add(layers.Dense(4, activation=activations.tanh))\n",
    "model.add(layers.Dense(46, activation='softmax'))\n",
    "model.compile(optimizer=RMSopt,\n",
    "             loss='binary_crossentropy',\n",
    "             metrics=['acc'])"
   ]
  },
  {
   "cell_type": "code",
   "execution_count": null,
   "metadata": {},
   "outputs": [],
   "source": [
    "model.summary()"
   ]
  },
  {
   "cell_type": "code",
   "execution_count": null,
   "metadata": {},
   "outputs": [],
   "source": [
    "#***\n",
    "\n",
    "x_val=x_train[:1000]\n",
    "partial_x_train=x_train[1000:]\n",
    "y_val=one_hot_train_labels[:1000]\n",
    "partial_y_train=one_hot_train_labels[1000:]\n",
    "history=model.fit(partial_x_train,\n",
    "                 partial_y_train,\n",
    "                 epochs=200,\n",
    "                 batch_size=512,\n",
    "                 validation_data=(x_val,y_val))\n",
    "\n",
    "#*** loss is changing slowly, accuracy not changing at all"
   ]
  },
  {
   "cell_type": "code",
   "execution_count": null,
   "metadata": {},
   "outputs": [],
   "source": [
    "import matplotlib.pyplot as plt\n",
    "history_dict=history.history\n",
    "loss_values=history_dict['loss']\n",
    "val_loss_values=history_dict['val_loss']\n",
    "epochs=range(1,len(loss_values)+1)\n",
    "plt.plot(epochs,loss_values,'bo',label='Training loss')\n",
    "plt.plot(epochs,val_loss_values,'b',label='Validation loss')\n",
    "plt.title(\"Training and validation loss\")\n",
    "plt.xlabel('Epochs')\n",
    "plt.ylabel('Loss')\n",
    "plt.legend()\n",
    "plt.show()\n",
    "\n",
    "##*** this is bad - adding more epochs will not solve the problem. The activation function, alpha does not change\n",
    "#*** should change alpha ? It is still overfit, but the fn now looks better"
   ]
  },
  {
   "cell_type": "code",
   "execution_count": null,
   "metadata": {},
   "outputs": [],
   "source": [
    "plt.clf()\n",
    "\n",
    "acc_values=history_dict['acc']\n",
    "val_acc_values=history_dict['val_acc']\n",
    "plt.plot(epochs,acc_values,'bo',label='Training acc')\n",
    "plt.plot(epochs,val_acc_values,'b',label='Validation acc')\n",
    "plt.title(\"Training and validation acc\")\n",
    "plt.xlabel('Epochs')\n",
    "plt.ylabel('Accuracy')\n",
    "plt.legend()\n",
    "plt.show()"
   ]
  },
  {
   "cell_type": "code",
   "execution_count": null,
   "metadata": {},
   "outputs": [],
   "source": [
    "results=model.evaluate(x_test,one_hot_test_labels)\n",
    "results"
   ]
  },
  {
   "cell_type": "markdown",
   "metadata": {},
   "source": [
    "**Let us play to enhance the situation**"
   ]
  },
  {
   "cell_type": "markdown",
   "metadata": {},
   "source": [
    "# [The Boston Housing Price dataset](https://www.cs.toronto.edu/~delve/data/boston/bostonDetail.html)\n",
    "\n",
    "## Regression problem\n",
    "\n",
    "We try to to predict the median price of homes in a given Boston suburb in the mid-1970s, given data points about the suburb at the time, such as the crime rate, the local property tax rate, and so on"
   ]
  },
  {
   "cell_type": "code",
   "execution_count": 6,
   "metadata": {},
   "outputs": [
    {
     "name": "stdout",
     "output_type": "stream",
     "text": [
      "Downloading data from https://s3.amazonaws.com/keras-datasets/boston_housing.npz\n",
      "57344/57026 [==============================] - 0s 6us/step\n"
     ]
    }
   ],
   "source": [
    "from keras.datasets import boston_housing\n",
    "(train_data,train_targets),(test_data,test_targets)=boston_housing.load_data()"
   ]
  },
  {
   "cell_type": "code",
   "execution_count": 7,
   "metadata": {},
   "outputs": [
    {
     "name": "stdout",
     "output_type": "stream",
     "text": [
      "(404, 13)\n",
      "13\n"
     ]
    }
   ],
   "source": [
    "print(train_data.shape)\n",
    "print(train_data.shape[1])"
   ]
  },
  {
   "cell_type": "code",
   "execution_count": 8,
   "metadata": {},
   "outputs": [
    {
     "name": "stdout",
     "output_type": "stream",
     "text": [
      "(102, 13)\n",
      "13\n"
     ]
    }
   ],
   "source": [
    "print(test_data.shape)\n",
    "print(test_data.shape[1])"
   ]
  },
  {
   "cell_type": "code",
   "execution_count": 9,
   "metadata": {},
   "outputs": [],
   "source": [
    "#Let us Standardize the training then use the information to test\n",
    "\n",
    "#***first take the mean\n",
    "mean=train_data.mean(axis=0)\n",
    "\n",
    "#*** subtract mean from each data point\n",
    "train_data -=mean\n",
    "#*** get std from data\n",
    "std=train_data.std(axis=0)\n",
    "\n",
    "#*** divide each data point by std\n",
    "train_data /=std\n",
    "\n",
    "#***standardize the test data as well\n",
    "test_data -=mean\n",
    "test_data /=std"
   ]
  },
  {
   "cell_type": "code",
   "execution_count": 10,
   "metadata": {},
   "outputs": [],
   "source": [
    "from keras import models\n",
    "from keras import layers\n",
    "\n",
    "\n",
    "model= models.Sequential()\n",
    "model.add(layers.Dense(64, activation='relu',input_shape=(train_data.shape[1],)))\n",
    "model.add(layers.Dense(64, activation='relu'))\n",
    "\n",
    "#*** this is a regression problem, no activation function because no classification\n",
    "model.add(layers.Dense(1))\n",
    "model.compile(optimizer='rmsprop',loss='mse',metrics=['mae'])\n"
   ]
  },
  {
   "cell_type": "code",
   "execution_count": 16,
   "metadata": {},
   "outputs": [
    {
     "name": "stdout",
     "output_type": "stream",
     "text": [
      "Train on 304 samples, validate on 100 samples\n",
      "Epoch 1/20\n",
      "304/304 [==============================] - 1s 3ms/step - loss: 221.6314 - mean_absolute_error: 11.1189 - val_loss: 32.7943 - val_mean_absolute_error: 3.7168\n",
      "Epoch 2/20\n",
      "304/304 [==============================] - 1s 2ms/step - loss: 28.4197 - mean_absolute_error: 3.6929 - val_loss: 19.4167 - val_mean_absolute_error: 2.9336\n",
      "Epoch 3/20\n",
      "304/304 [==============================] - 1s 2ms/step - loss: 20.9863 - mean_absolute_error: 3.0779 - val_loss: 18.0958 - val_mean_absolute_error: 2.9765\n",
      "Epoch 4/20\n",
      "304/304 [==============================] - 1s 2ms/step - loss: 18.4488 - mean_absolute_error: 2.8038 - val_loss: 15.5377 - val_mean_absolute_error: 2.5872\n",
      "Epoch 5/20\n",
      "304/304 [==============================] - 1s 2ms/step - loss: 16.5846 - mean_absolute_error: 2.6972 - val_loss: 12.8869 - val_mean_absolute_error: 2.2029\n",
      "Epoch 6/20\n",
      "304/304 [==============================] - 1s 2ms/step - loss: 15.6045 - mean_absolute_error: 2.5168 - val_loss: 13.5350 - val_mean_absolute_error: 2.5382\n",
      "Epoch 7/20\n",
      "304/304 [==============================] - 1s 2ms/step - loss: 14.4634 - mean_absolute_error: 2.4875 - val_loss: 11.0766 - val_mean_absolute_error: 2.3069\n",
      "Epoch 8/20\n",
      "304/304 [==============================] - 1s 2ms/step - loss: 13.8681 - mean_absolute_error: 2.3979 - val_loss: 14.3430 - val_mean_absolute_error: 2.5923\n",
      "Epoch 9/20\n",
      "304/304 [==============================] - 1s 2ms/step - loss: 13.6808 - mean_absolute_error: 2.3578 - val_loss: 11.2965 - val_mean_absolute_error: 2.1916\n",
      "Epoch 10/20\n",
      "304/304 [==============================] - 1s 2ms/step - loss: 12.4972 - mean_absolute_error: 2.3666 - val_loss: 10.2831 - val_mean_absolute_error: 2.2240\n",
      "Epoch 11/20\n",
      "304/304 [==============================] - 1s 2ms/step - loss: 12.0943 - mean_absolute_error: 2.3176 - val_loss: 10.5372 - val_mean_absolute_error: 2.0899\n",
      "Epoch 12/20\n",
      "304/304 [==============================] - 1s 2ms/step - loss: 11.5406 - mean_absolute_error: 2.1474 - val_loss: 9.7736 - val_mean_absolute_error: 2.0843\n",
      "Epoch 13/20\n",
      "304/304 [==============================] - 1s 2ms/step - loss: 11.3300 - mean_absolute_error: 2.2288 - val_loss: 9.0570 - val_mean_absolute_error: 2.0214\n",
      "Epoch 14/20\n",
      "304/304 [==============================] - 1s 2ms/step - loss: 11.2357 - mean_absolute_error: 2.1118 - val_loss: 9.8352 - val_mean_absolute_error: 2.0873\n",
      "Epoch 15/20\n",
      "304/304 [==============================] - 1s 2ms/step - loss: 10.6008 - mean_absolute_error: 2.1898 - val_loss: 13.9415 - val_mean_absolute_error: 2.8313\n",
      "Epoch 16/20\n",
      "304/304 [==============================] - 1s 2ms/step - loss: 10.7017 - mean_absolute_error: 2.1841 - val_loss: 8.7426 - val_mean_absolute_error: 2.0390\n",
      "Epoch 17/20\n",
      "304/304 [==============================] - 1s 2ms/step - loss: 10.7698 - mean_absolute_error: 2.0396 - val_loss: 9.0174 - val_mean_absolute_error: 2.1724\n",
      "Epoch 18/20\n",
      "304/304 [==============================] - 1s 2ms/step - loss: 10.4317 - mean_absolute_error: 2.0680 - val_loss: 9.0477 - val_mean_absolute_error: 2.1392\n",
      "Epoch 19/20\n",
      "304/304 [==============================] - 1s 2ms/step - loss: 9.6667 - mean_absolute_error: 2.0274 - val_loss: 8.9653 - val_mean_absolute_error: 1.8601\n",
      "Epoch 20/20\n",
      "304/304 [==============================] - 1s 2ms/step - loss: 9.7220 - mean_absolute_error: 2.0330 - val_loss: 8.4304 - val_mean_absolute_error: 2.0001\n"
     ]
    }
   ],
   "source": [
    "x_val=train_data[:100]\n",
    "y_val=train_targets[:100]\n",
    "partial_x_train=train_data[100:]\n",
    "partial_y_train=train_targets[100:]\n",
    "history=model.fit(partial_x_train,\n",
    "                 partial_y_train,\n",
    "                 epochs=20,\n",
    "                 batch_size=1,\n",
    "                 validation_data=(x_val,y_val))"
   ]
  },
  {
   "cell_type": "markdown",
   "metadata": {},
   "source": [
    "**What is the problem in the results-- let us discuss**"
   ]
  },
  {
   "cell_type": "code",
   "execution_count": 17,
   "metadata": {},
   "outputs": [
    {
     "name": "stdout",
     "output_type": "stream",
     "text": [
      "processing fold # 0\n",
      "processing fold # 1\n",
      "processing fold # 2\n",
      "processing fold # 3\n"
     ]
    }
   ],
   "source": [
    "#*** this code is how to implement cross val manually\n",
    "\n",
    "num_epochs = 500\n",
    "k=4\n",
    "all_mae_histories = []\n",
    "num_val_samples = len(train_data) // k\n",
    "\n",
    "for i in range(k):\n",
    "    print('processing fold #', i)\n",
    "    # Prepare the validation data: data from partition # k\n",
    "    val_data = train_data[i * num_val_samples: (i + 1) * num_val_samples]\n",
    "    val_targets = train_targets[i * num_val_samples: (i + 1) * num_val_samples]\n",
    "\n",
    "    # Prepare the training data: data from all other partitions\n",
    "    partial_train_data = np.concatenate(\n",
    "        [train_data[:i * num_val_samples],\n",
    "         train_data[(i + 1) * num_val_samples:]],\n",
    "        axis=0)\n",
    "    partial_train_targets = np.concatenate(\n",
    "        [train_targets[:i * num_val_samples],\n",
    "         train_targets[(i + 1) * num_val_samples:]],\n",
    "        axis=0)\n",
    "\n",
    "    # Build the Keras model (already compiled)\n",
    "    model= models.Sequential()\n",
    "    model.add(layers.Dense(64, activation='relu',input_shape=(train_data.shape[1],)))\n",
    "    model.add(layers.Dense(64, activation='relu'))\n",
    "    model.add(layers.Dense(1))\n",
    "    model.compile(optimizer='rmsprop',loss='mse',metrics=['mae'])\n",
    "    # Train the model (in silent mode, verbose=0)\n",
    "    history = model.fit(partial_train_data, partial_train_targets,\n",
    "                        validation_data=(val_data, val_targets),\n",
    "                        epochs=num_epochs, batch_size=1, verbose=0)\n",
    "    mae_history = history.history['val_mean_absolute_error']\n",
    "    all_mae_histories.append(mae_history)"
   ]
  },
  {
   "cell_type": "code",
   "execution_count": 18,
   "metadata": {},
   "outputs": [],
   "source": [
    "average_mae_history = [\n",
    "    np.mean([x[i] for x in all_mae_histories]) for i in range(num_epochs)]"
   ]
  },
  {
   "cell_type": "code",
   "execution_count": 19,
   "metadata": {},
   "outputs": [
    {
     "data": {
      "image/png": "[encoded data removed]",
      "text/plain": [
       "<Figure size 432x288 with 1 Axes>"
      ]
     },
     "metadata": {},
     "output_type": "display_data"
    }
   ],
   "source": [
    "import matplotlib.pyplot as plt\n",
    "\n",
    "plt.plot(range(1, len(average_mae_history) + 1), average_mae_history)\n",
    "plt.xlabel('Epochs')\n",
    "plt.ylabel('Validation MAE')\n",
    "plt.show()\n",
    "\n",
    "#*** conclusion from these results, can't tell if overfit really, maybe (because of fluctuation).\n",
    "#*** the sharp drop is strange, the model is not good for these data, small dataset size is also an issue"
   ]
  },
  {
   "cell_type": "markdown",
   "metadata": {},
   "source": [
    "*What is the problem in the results-- let us discuss**"
   ]
  },
  {
   "cell_type": "markdown",
   "metadata": {},
   "source": [
    "<font color='red'>understand all of these, visit the links and understand. need concept description. adv and disads for each, when to use specifi activation function, how to find best. These will be in the assignment. read and understand. cite all links, don't copy paste. </font>\n",
    "\n",
    "## Search Questions:\n",
    "\n",
    "\n",
    "1. Explain the difference between : GD and SGD? [link](https://towardsdatascience.com/difference-between-batch-gradient-descent-and-stochastic-gradient-descent-1187f1291aa1)    \n",
    "2. Overview of gradient descent optimization algorithms? [link](http://ruder.io/optimizing-gradient-descent/)\n",
    "3. How to pick the best learning rate for your machine learning project? [link](https://medium.com/octavian-ai/which-optimizer-and-learning-rate-should-i-use-for-deep-learning-5acb418f9b2)"
   ]
  },
  {
   "cell_type": "code",
   "execution_count": null,
   "metadata": {},
   "outputs": [],
   "source": []
  },
  {
   "cell_type": "code",
   "execution_count": null,
   "metadata": {},
   "outputs": [],
   "source": []
  },
  {
   "cell_type": "code",
   "execution_count": null,
   "metadata": {},
   "outputs": [],
   "source": []
  }
 ],
 "metadata": {
  "kernelspec": {
   "display_name": "Python 3",
   "language": "python",
   "name": "python3"
  },
  "language_info": {
   "codemirror_mode": {
    "name": "ipython",
    "version": 3
   },
   "file_extension": ".py",
   "mimetype": "text/x-python",
   "name": "python",
   "nbconvert_exporter": "python",
   "pygments_lexer": "ipython3",
   "version": "3.5.5"
  }
 },
 "nbformat": 4,
 "nbformat_minor": 2
}
